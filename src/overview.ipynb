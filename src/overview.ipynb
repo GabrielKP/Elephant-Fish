{
 "cells": [
  {
   "cell_type": "markdown",
   "metadata": {},
   "source": [
    "# Purpose of this notebook\n",
    "\n",
    "In this notebook we will observe how the prediction accuracy changes when providing additional information about the environment. For this purpose we will first create a BASELINE model that only gets the last locomotion and the raycasts as Input. Then we will create another model with additional inputs and compare it with the BASELINE model using various analystic plots."
   ]
  },
  {
   "cell_type": "code",
   "execution_count": 1,
   "metadata": {
    "tags": []
   },
   "outputs": [
    {
     "output_type": "stream",
     "name": "stderr",
     "text": "Using TensorFlow backend.\n"
    }
   ],
   "source": [
    "import warnings\n",
    "warnings.filterwarnings(\"ignore\")\n",
    "\n",
    "import os\n",
    "os.chdir(\"../\")\n",
    "\n",
    "#Import modules\n",
    "from main import *\n",
    "from functions import *\n",
    "from locomotion import *\n",
    "from raycasts import *\n",
    "from keras.models import Sequential\n",
    "from keras.layers import Dense, LSTM, BatchNormalization\n",
    "from itertools import chain\n",
    "import reader\n",
    "import tensorflow as tf\n",
    "import pandas as pd\n",
    "import numpy as np\n",
    "import random\n",
    "import shap"
   ]
  },
  {
   "cell_type": "markdown",
   "metadata": {},
   "source": [
    "# BASELINE MODEL"
   ]
  },
  {
   "cell_type": "code",
   "execution_count": 2,
   "metadata": {},
   "outputs": [],
   "source": [
    "#set variables\n",
    "COUNT_BINS_AGENTS = 21\n",
    "COUNT_RAYS_WALLS = 15\n",
    "RADIUS_FIELD_OF_VIEW_WALLS = 180\n",
    "RADIUS_FIELD_OF_VIEW_AGENTS = 300\n",
    "MAX_VIEW_RANGE = 709\n",
    "COUNT_FISHES = 3\n",
    "CLUSTER_COUNTS = (18, 17, 26)"
   ]
  },
  {
   "cell_type": "code",
   "execution_count": 4,
   "metadata": {
    "tags": []
   },
   "outputs": [],
   "source": [
    "#create model\n",
    "model = Sequential()\n",
    "model.add(LSTM(256, input_shape=(1, COUNT_BINS_AGENTS+COUNT_RAYS_WALLS+sum(list(CLUSTER_COUNTS))), dropout = 0.1))\n",
    "model.add(Dense(128))\n",
    "model.add(Dense(64))\n",
    "model.add(Dense(sum(list(CLUSTER_COUNTS))))\n",
    "model.compile(loss='mean_squared_error', optimizer='adam')"
   ]
  },
  {
   "cell_type": "code",
   "execution_count": 5,
   "metadata": {
    "tags": []
   },
   "outputs": [
    {
     "output_type": "stream",
     "name": "stdout",
     "text": "Training on Subtrack 0\nWARNING:tensorflow:From C:\\Users\\Jörg Gröling\\AppData\\Local\\Programs\\Python\\Python36\\lib\\site-packages\\keras\\backend\\tensorflow_backend.py:422: The name tf.global_variables is deprecated. Please use tf.compat.v1.global_variables instead.\n\nTraining on Subtrack 1\nTraining on Subtrack 2\nTraining on Subtrack 3\nTraining on Subtrack 4\nTraining on Subtrack 5\nTraining on Subtrack 6\nTraining on Subtrack 7\nTraining on Subtrack 8\nTraining on Subtrack 9\nTraining on Subtrack 10\nTraining on Subtrack 11\nTraining on Subtrack 0\nTraining on Subtrack 1\nTraining on Subtrack 2\nTraining on Subtrack 3\nTraining on Subtrack 4\nTraining on Subtrack 5\nTraining on Subtrack 6\nTraining on Subtrack 7\nTraining on Subtrack 8\nTraining on Subtrack 0\nTraining on Subtrack 1\nTraining on Subtrack 2\nTraining on Subtrack 3\nTraining on Subtrack 4\nTraining on Subtrack 5\nTraining on Subtrack 6\nTraining on Subtrack 7\nTraining on Subtrack 8\nTraining on Subtrack 0\nTraining on Subtrack 1\nTraining on Subtrack 2\nTraining on Subtrack 3\nTraining on Subtrack 4\nTraining on Subtrack 5\nTraining on Subtrack 6\nTraining on Subtrack 7\nTraining on Subtrack 8\nTraining on Subtrack 0\nTraining on Subtrack 1\nTraining on Subtrack 2\nTraining on Subtrack 3\nTraining on Subtrack 4\nTraining on Subtrack 5\nTraining on Subtrack 6\nTraining on Subtrack 7\nTraining on Subtrack 8\nTraining on Subtrack 9\nTraining on Subtrack 10\nTraining on Subtrack 11\nTraining on Subtrack 0\nTraining on Subtrack 1\nTraining on Subtrack 2\nTraining on Subtrack 3\nTraining on Subtrack 4\nTraining on Subtrack 5\nTraining on Subtrack 6\nTraining on Subtrack 7\nTraining on Subtrack 8\nTraining on Subtrack 0\nTraining on Subtrack 1\nTraining on Subtrack 2\nTraining on Subtrack 3\nTraining on Subtrack 4\nTraining on Subtrack 5\nTraining on Subtrack 6\nTraining on Subtrack 7\nTraining on Subtrack 8\nTraining on Subtrack 9\nTraining on Subtrack 10\nTraining on Subtrack 11\nTraining on Subtrack 0\nTraining on Subtrack 1\nTraining on Subtrack 2\nTraining on Subtrack 3\nTraining on Subtrack 4\nTraining on Subtrack 5\nTraining on Subtrack 6\nTraining on Subtrack 7\nTraining on Subtrack 8\nTraining on Subtrack 9\nTraining on Subtrack 10\nTraining on Subtrack 11\n"
    }
   ],
   "source": [
    "sim = Simulation(COUNT_BINS_AGENTS, COUNT_RAYS_WALLS, RADIUS_FIELD_OF_VIEW_WALLS, RADIUS_FIELD_OF_VIEW_AGENTS, MAX_VIEW_RANGE, COUNT_FISHES, \"data/clusters.txt\")\n",
    "\n",
    "load_model = False\n",
    "\n",
    "if load_model:\n",
    "    model.load(\"models/model_baseline\")\n",
    "    sim.setModel(model)\n",
    "else:\n",
    "    #train model\n",
    "    sim.setModel(model)\n",
    "    #diffgroups\n",
    "    sim.trainNetwork(\"data/locomotion_data_bin_diff1.csv\", \"data/raycast_data_diff1.csv\", subtrack_length = 6000, batch_size = 10, epochs = 10)\n",
    "    sim.trainNetwork(\"data/locomotion_data_bin_diff2.csv\", \"data/raycast_data_diff2.csv\", subtrack_length = 6000, batch_size = 10, epochs = 10)\n",
    "    sim.trainNetwork(\"data/locomotion_data_bin_diff3.csv\", \"data/raycast_data_diff3.csv\", subtrack_length = 6000, batch_size = 10, epochs = 10)\n",
    "    sim.trainNetwork(\"data/locomotion_data_bin_diff4.csv\", \"data/raycast_data_diff4.csv\", subtrack_length = 6000, batch_size = 10, epochs = 10)\n",
    "    # #samegroups\n",
    "    sim.trainNetwork(\"data/locomotion_data_bin_same1.csv\", \"data/raycast_data_same1.csv\", subtrack_length = 6000, batch_size = 10, epochs = 10)\n",
    "    sim.trainNetwork(\"data/locomotion_data_bin_same3.csv\", \"data/raycast_data_same3.csv\", subtrack_length = 6000, batch_size = 10, epochs = 10)\n",
    "    sim.trainNetwork(\"data/locomotion_data_bin_same4.csv\", \"data/raycast_data_same4.csv\", subtrack_length = 6000, batch_size = 10, epochs = 10)\n",
    "    sim.trainNetwork(\"data/locomotion_data_bin_same5.csv\", \"data/raycast_data_same5.csv\", subtrack_length = 6000, batch_size = 10, epochs = 10)\n",
    "\n",
    "#save\n",
    "model = sim.getModel()\n",
    "model.save(\"models/model_baseline\")"
   ]
  },
  {
   "cell_type": "code",
   "execution_count": 6,
   "metadata": {
    "tags": []
   },
   "outputs": [
    {
     "output_type": "stream",
     "name": "stdout",
     "text": "||| Timestep 1000 finished. |||\n||| Timestep 2000 finished. |||\n||| Timestep 3000 finished. |||\n||| Timestep 4000 finished. |||\n||| Timestep 5000 finished. |||\n||| Timestep 6000 finished. |||\n||| Timestep 7000 finished. |||\n||| Timestep 8000 finished. |||\n||| Timestep 9000 finished. |||\n||| Timestep 10000 finished. |||\n||| Timestep 11000 finished. |||\n||| Timestep 12000 finished. |||\n||| Timestep 13000 finished. |||\n||| Timestep 14000 finished. |||\n||| Timestep 15000 finished. |||\n||| Timestep 16000 finished. |||\n||| Timestep 17000 finished. |||\n"
    }
   ],
   "source": [
    "#create locomotion track\n",
    "sim.testNetwork(timesteps = 18000, save_tracks = \"data/\")"
   ]
  }
 ],
 "metadata": {
  "kernelspec": {
   "display_name": "Python 3.6.8 64-bit",
   "name": "python_defaultSpec_1594648237701"
  },
  "language_info": {
   "codemirror_mode": {
    "name": "ipython",
    "version": 3
   },
   "file_extension": ".py",
   "mimetype": "text/x-python",
   "name": "python",
   "nbconvert_exporter": "python",
   "pygments_lexer": "ipython3",
   "version": 3
  }
 },
 "nbformat": 4,
 "nbformat_minor": 2
}