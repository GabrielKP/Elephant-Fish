{
 "cells": [
  {
   "cell_type": "markdown",
   "metadata": {},
   "source": [
    "# Purpose of this notebook\n",
    "\n",
    "In this notebook we will observe how the prediction accuracy changes when providing additional information about the environment. For this purpose we will first create a BASELINE model that only gets the last locomotion and the raycasts as Input. Then we will create another model with additional inputs and compare it with the BASELINE model using various analystic plots."
   ]
  },
  {
   "cell_type": "code",
   "execution_count": null,
   "metadata": {},
   "outputs": [],
   "source": [
    "#Import modules\n",
    "from main import *\n",
    "from functions import *\n",
    "from locomotion import *\n",
    "from raycasts import *\n",
    "from keras.models import Sequential\n",
    "from keras.layers import Dense, LSTM, BatchNormalization\n",
    "from itertools import chain\n",
    "import reader\n",
    "import tensorflow as tf\n",
    "import pandas as pd\n",
    "import numpy as np\n",
    "import os\n",
    "import random\n",
    "import shap"
   ]
  },
  {
   "cell_type": "markdown",
   "metadata": {},
   "source": [
    "# BASELINE MODEL"
   ]
  },
  {
   "cell_type": "code",
   "execution_count": null,
   "metadata": {},
   "outputs": [],
   "source": [
    "#set variables\n",
    "COUNT_BINS_AGENTS = 21\n",
    "COUNT_RAYS_WALLS = 15\n",
    "RADIUS_FIELD_OF_VIEW_WALLS = 180\n",
    "RADIUS_FIELD_OF_VIEW_AGENTS = 300\n",
    "MAX_VIEW_RANGE = 709\n",
    "COUNT_FISHES = 3\n",
    "CLUSTER_COUNTS = (15, 20, 17)"
   ]
  },
  {
   "cell_type": "code",
   "execution_count": null,
   "metadata": {},
   "outputs": [],
   "source": [
    "#create model\n",
    "model = Sequential()\n",
    "model.add(LSTM(256, input_shape=(1, COUNT_BINS_AGENTS+COUNT_RAYS_WALLS+sum(list(CLUSTER_COUNTS))), dropout = 0.1))\n",
    "model.add(Dense(128))\n",
    "model.add(Dense(sum(list(CLUSTER_COUNTS))))\n",
    "model.compile(loss='mean_squared_error', optimizer='adam')\n",
    "\n",
    "#train model\n",
    "sim = Simulation(COUNT_BINS_AGENTS, COUNT_RAYS_WALLS, RADIUS_FIELD_OF_VIEW_WALLS, RADIUS_FIELD_OF_VIEW_AGENTS, MAX_VIEW_RANGE, COUNT_FISHES, \"data/clusters.txt\")\n",
    "sim.setModel(model)\n",
    "sim.trainNetwork(\"data/locomotion_data_bin_diff1.csv\", \"data/raycast_data_diff1.csv\", 6000, 10, 10)\n",
    "sim.trainNetwork(\"data/locomotion_data_bin_diff2.csv\", \"data/raycast_data_diff2.csv\", 6000, 10, 10)\n",
    "sim.trainNetwork(\"data/locomotion_data_bin_diff3.csv\", \"data/raycast_data_diff3.csv\", 6000, 10, 10)\n",
    "sim.trainNetwork(\"data/locomotion_data_bin_diff4.csv\", \"data/raycast_data_diff4.csv\", 6000, 10, 10)\n",
    "model = sim.getModel()\n",
    "\n",
    "#\n",
    "model.save(\"models/model_diff_1_to_4/\")\n",
    "\n",
    "sim.testNetwork(timesteps = 18000, save_tracks = \"data/\")"
   ]
  }
 ],
 "metadata": {
  "kernelspec": {
   "display_name": "Python 3.6.8 64-bit",
   "name": "python_defaultSpec_1594648237701"
  },
  "language_info": {
   "codemirror_mode": {
    "name": "ipython",
    "version": 3
   },
   "file_extension": ".py",
   "mimetype": "text/x-python",
   "name": "python",
   "nbconvert_exporter": "python",
   "pygments_lexer": "ipython3",
   "version": 3
  }
 },
 "nbformat": 4,
 "nbformat_minor": 2
}